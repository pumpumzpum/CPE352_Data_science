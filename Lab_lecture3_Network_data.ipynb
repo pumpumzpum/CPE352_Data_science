{
 "cells": [
  {
   "cell_type": "code",
   "execution_count": 4,
   "id": "b0e76eee",
   "metadata": {},
   "outputs": [],
   "source": [
    "import numpy as np\n",
    "import networkx as nx\n",
    "import matplotlib.pyplot as plt\n",
    "import pandas as pd"
   ]
  },
  {
   "cell_type": "markdown",
   "id": "257bf8ca",
   "metadata": {},
   "source": [
    "### read csv"
   ]
  },
  {
   "cell_type": "code",
   "execution_count": 56,
   "id": "a355242e",
   "metadata": {},
   "outputs": [],
   "source": [
    "dolph_edges_df = pd.read_csv(\"D:/Pum_Program/HDS_WORK/Year 3/Semester 1/Data sci/Lab week 4  lecture3/dolphin_edges.csv\")"
   ]
  },
  {
   "cell_type": "code",
   "execution_count": 9,
   "id": "fd095400",
   "metadata": {},
   "outputs": [],
   "source": [
    "dolph_vertices_df = pd.read_csv(\"D:/Pum_Program/HDS_WORK/Year 3/Semester 1/Data sci/Lab week 4  lecture3/dolphin_vertices.csv\")"
   ]
  },
  {
   "cell_type": "code",
   "execution_count": 61,
   "id": "ce86bba1",
   "metadata": {},
   "outputs": [],
   "source": [
    "dolph_edges = nx.from_pandas_edgelist(dolph_edges_df, source=\"From\", target=\"To\", create_using = nx.MultiDiGraph)"
   ]
  },
  {
   "cell_type": "code",
   "execution_count": 62,
   "id": "70a4ca5d",
   "metadata": {},
   "outputs": [
    {
     "data": {
      "text/plain": [
       "<networkx.classes.multidigraph.MultiDiGraph at 0x217837e6cd0>"
      ]
     },
     "execution_count": 62,
     "metadata": {},
     "output_type": "execute_result"
    }
   ],
   "source": [
    "dolph_edges"
   ]
  },
  {
   "cell_type": "code",
   "execution_count": 63,
   "id": "dded532e",
   "metadata": {},
   "outputs": [
    {
     "name": "stdout",
     "output_type": "stream",
     "text": [
      "Name: \n",
      "Type: MultiDiGraph\n",
      "Number of nodes: 62\n",
      "Number of edges: 159\n",
      "Average in degree:   2.5645\n",
      "Average out degree:   2.5645\n"
     ]
    }
   ],
   "source": [
    "print(nx.info(dolph_edges) )"
   ]
  },
  {
   "cell_type": "code",
   "execution_count": 186,
   "id": "86b2a8bc",
   "metadata": {},
   "outputs": [
    {
     "data": {
      "text/plain": [
       "<networkx.classes.graph.Graph at 0x217fff28670>"
      ]
     },
     "execution_count": 186,
     "metadata": {},
     "output_type": "execute_result"
    }
   ],
   "source": [
    "dolph_edges"
   ]
  },
  {
   "cell_type": "markdown",
   "id": "ce368105",
   "metadata": {},
   "source": [
    "## 1. Who are the most popular ?"
   ]
  },
  {
   "cell_type": "code",
   "execution_count": 76,
   "id": "80359a65",
   "metadata": {},
   "outputs": [],
   "source": [
    "popular_dolph = pd.DataFrame(dolph_edges.in_degree(),columns=[\"Node\",\"Degree\"])"
   ]
  },
  {
   "cell_type": "code",
   "execution_count": 77,
   "id": "597e7708",
   "metadata": {
    "scrolled": false
   },
   "outputs": [
    {
     "data": {
      "text/html": [
       "<div>\n",
       "<style scoped>\n",
       "    .dataframe tbody tr th:only-of-type {\n",
       "        vertical-align: middle;\n",
       "    }\n",
       "\n",
       "    .dataframe tbody tr th {\n",
       "        vertical-align: top;\n",
       "    }\n",
       "\n",
       "    .dataframe thead th {\n",
       "        text-align: right;\n",
       "    }\n",
       "</style>\n",
       "<table border=\"1\" class=\"dataframe\">\n",
       "  <thead>\n",
       "    <tr style=\"text-align: right;\">\n",
       "      <th></th>\n",
       "      <th>Node</th>\n",
       "      <th>Degree</th>\n",
       "    </tr>\n",
       "  </thead>\n",
       "  <tbody>\n",
       "    <tr>\n",
       "      <th>49</th>\n",
       "      <td>Trigger</td>\n",
       "      <td>9</td>\n",
       "    </tr>\n",
       "    <tr>\n",
       "      <th>56</th>\n",
       "      <td>Web</td>\n",
       "      <td>9</td>\n",
       "    </tr>\n",
       "    <tr>\n",
       "      <th>43</th>\n",
       "      <td>Topless</td>\n",
       "      <td>8</td>\n",
       "    </tr>\n",
       "    <tr>\n",
       "      <th>35</th>\n",
       "      <td>SN4</td>\n",
       "      <td>7</td>\n",
       "    </tr>\n",
       "    <tr>\n",
       "      <th>38</th>\n",
       "      <td>SN9</td>\n",
       "      <td>7</td>\n",
       "    </tr>\n",
       "  </tbody>\n",
       "</table>\n",
       "</div>"
      ],
      "text/plain": [
       "       Node  Degree\n",
       "49  Trigger       9\n",
       "56      Web       9\n",
       "43  Topless       8\n",
       "35      SN4       7\n",
       "38      SN9       7"
      ]
     },
     "execution_count": 77,
     "metadata": {},
     "output_type": "execute_result"
    }
   ],
   "source": [
    "popular_dolph.sort_values(by=\"Degree\",ascending = False).head()"
   ]
  },
  {
   "cell_type": "markdown",
   "id": "6b92a88c",
   "metadata": {},
   "source": [
    "### ANS : Web & Trigger are the most of popular because they have in_degree most\n",
    "### Explain: in_degree define as the number of node interacted  "
   ]
  },
  {
   "cell_type": "markdown",
   "id": "18d382e4",
   "metadata": {},
   "source": [
    "## 2. Pick 2 individuals, find the shortest path between them"
   ]
  },
  {
   "cell_type": "markdown",
   "id": "65e5956b",
   "metadata": {},
   "source": [
    "### Pick Oscar to Triger"
   ]
  },
  {
   "cell_type": "code",
   "execution_count": 80,
   "id": "80a06dc3",
   "metadata": {},
   "outputs": [],
   "source": [
    "dolph_edges_df[\"Weight\"] = 1"
   ]
  },
  {
   "cell_type": "code",
   "execution_count": 90,
   "id": "20ee1a2a",
   "metadata": {},
   "outputs": [
    {
     "data": {
      "text/html": [
       "<div>\n",
       "<style scoped>\n",
       "    .dataframe tbody tr th:only-of-type {\n",
       "        vertical-align: middle;\n",
       "    }\n",
       "\n",
       "    .dataframe tbody tr th {\n",
       "        vertical-align: top;\n",
       "    }\n",
       "\n",
       "    .dataframe thead th {\n",
       "        text-align: right;\n",
       "    }\n",
       "</style>\n",
       "<table border=\"1\" class=\"dataframe\">\n",
       "  <thead>\n",
       "    <tr style=\"text-align: right;\">\n",
       "      <th></th>\n",
       "      <th>From</th>\n",
       "      <th>To</th>\n",
       "      <th>Weight</th>\n",
       "    </tr>\n",
       "  </thead>\n",
       "  <tbody>\n",
       "    <tr>\n",
       "      <th>0</th>\n",
       "      <td>CCL</td>\n",
       "      <td>Double</td>\n",
       "      <td>1</td>\n",
       "    </tr>\n",
       "    <tr>\n",
       "      <th>1</th>\n",
       "      <td>DN16</td>\n",
       "      <td>Feather</td>\n",
       "      <td>1</td>\n",
       "    </tr>\n",
       "    <tr>\n",
       "      <th>2</th>\n",
       "      <td>DN21</td>\n",
       "      <td>Feather</td>\n",
       "      <td>1</td>\n",
       "    </tr>\n",
       "    <tr>\n",
       "      <th>3</th>\n",
       "      <td>Beak</td>\n",
       "      <td>Fish</td>\n",
       "      <td>1</td>\n",
       "    </tr>\n",
       "    <tr>\n",
       "      <th>4</th>\n",
       "      <td>Bumper</td>\n",
       "      <td>Fish</td>\n",
       "      <td>1</td>\n",
       "    </tr>\n",
       "  </tbody>\n",
       "</table>\n",
       "</div>"
      ],
      "text/plain": [
       "     From       To  Weight\n",
       "0     CCL   Double       1\n",
       "1    DN16  Feather       1\n",
       "2    DN21  Feather       1\n",
       "3    Beak     Fish       1\n",
       "4  Bumper     Fish       1"
      ]
     },
     "execution_count": 90,
     "metadata": {},
     "output_type": "execute_result"
    }
   ],
   "source": [
    "dolph_edges_df.head()"
   ]
  },
  {
   "cell_type": "code",
   "execution_count": 82,
   "id": "1ec40c6b",
   "metadata": {},
   "outputs": [],
   "source": [
    "dolph_weight_graph = nx.from_pandas_edgelist(dolph_edges_df, source=\"From\", target =\"To\",edge_attr =\"Weight\"\n",
    "                                             ,create_using = nx.MultiDiGraph)"
   ]
  },
  {
   "cell_type": "code",
   "execution_count": 83,
   "id": "2b6ea492",
   "metadata": {},
   "outputs": [
    {
     "data": {
      "text/plain": [
       "<networkx.classes.multidigraph.MultiDiGraph at 0x217839712b0>"
      ]
     },
     "execution_count": 83,
     "metadata": {},
     "output_type": "execute_result"
    }
   ],
   "source": [
    "dolph_weight_graph"
   ]
  },
  {
   "cell_type": "code",
   "execution_count": 96,
   "id": "155182aa",
   "metadata": {},
   "outputs": [
    {
     "data": {
      "text/plain": [
       "['Oscar', 'PL', 'SN96', 'TR99', 'Trigger']"
      ]
     },
     "execution_count": 96,
     "metadata": {},
     "output_type": "execute_result"
    }
   ],
   "source": [
    "nx.shortest_path(dolph_weight_graph,'Oscar','Trigger',weight=\"Weight\")"
   ]
  },
  {
   "cell_type": "markdown",
   "id": "5becd80a",
   "metadata": {},
   "source": [
    "### the path of 'Oscar' to 'Triger' has 4 weight"
   ]
  },
  {
   "cell_type": "code",
   "execution_count": 98,
   "id": "38bb0233",
   "metadata": {},
   "outputs": [
    {
     "data": {
      "text/plain": [
       "{'Oscar': ['Oscar'],\n",
       " 'PL': ['Oscar', 'PL'],\n",
       " 'TR77': ['Oscar', 'TR77'],\n",
       " 'SN96': ['Oscar', 'PL', 'SN96'],\n",
       " 'TR99': ['Oscar', 'PL', 'SN96', 'TR99'],\n",
       " 'Trigger': ['Oscar', 'PL', 'SN96', 'TR99', 'Trigger'],\n",
       " 'Vau': ['Oscar', 'PL', 'SN96', 'TR99', 'Trigger', 'Vau']}"
      ]
     },
     "execution_count": 98,
     "metadata": {},
     "output_type": "execute_result"
    }
   ],
   "source": [
    "nx.shortest_path(dolph_weight_graph,'Oscar',weight=\"Weight\") ### shortest path to other node of Oscar"
   ]
  },
  {
   "cell_type": "markdown",
   "id": "e8797b2c",
   "metadata": {},
   "source": [
    "## 3. What does the shortest path mean ?"
   ]
  },
  {
   "cell_type": "markdown",
   "id": "bb53aba9",
   "metadata": {},
   "source": [
    "### ANS : For social network data its mean the shortest path that least of pass through the other node                   for communication with destination node (same weight of all edges) \n",
    "### เส้นทางที่เราสามารถติดต่อกับ node อื่นได้สั้นที่สุด\n",
    "### เช่น A สามารถติดต่อกับ B ได้ \n",
    "### B สามารถติดต่อกับ C ได้ หาก A ต้องการติดต่อกับ C ก็สามารถไปหา B เพื่อต้องการไปติดต่อกับ C\n",
    "### ซึ่งแน่นอนว่าอาจจะมีหลายเส้นทางที่จะติดต่อไปหา C ไม่ใช่แค่ผ่าน B แต่เราจะหาเส้นทางที่ระยะสั้นที่สุดในการติดต่อ โดยที่ไม่ต้องติดต่อกันหลาย node (กรณี Weight เท่ากันทุก Edge)"
   ]
  },
  {
   "cell_type": "markdown",
   "id": "890414d3",
   "metadata": {},
   "source": [
    "## 4. Find how many components are there in the network"
   ]
  },
  {
   "cell_type": "code",
   "execution_count": 185,
   "id": "2ea6393f",
   "metadata": {},
   "outputs": [
    {
     "data": {
      "text/html": [
       "<div>\n",
       "<style scoped>\n",
       "    .dataframe tbody tr th:only-of-type {\n",
       "        vertical-align: middle;\n",
       "    }\n",
       "\n",
       "    .dataframe tbody tr th {\n",
       "        vertical-align: top;\n",
       "    }\n",
       "\n",
       "    .dataframe thead th {\n",
       "        text-align: right;\n",
       "    }\n",
       "</style>\n",
       "<table border=\"1\" class=\"dataframe\">\n",
       "  <thead>\n",
       "    <tr style=\"text-align: right;\">\n",
       "      <th></th>\n",
       "      <th>From</th>\n",
       "      <th>To</th>\n",
       "      <th>Weight</th>\n",
       "    </tr>\n",
       "  </thead>\n",
       "  <tbody>\n",
       "    <tr>\n",
       "      <th>0</th>\n",
       "      <td>CCL</td>\n",
       "      <td>Double</td>\n",
       "      <td>1</td>\n",
       "    </tr>\n",
       "    <tr>\n",
       "      <th>1</th>\n",
       "      <td>DN16</td>\n",
       "      <td>Feather</td>\n",
       "      <td>1</td>\n",
       "    </tr>\n",
       "    <tr>\n",
       "      <th>2</th>\n",
       "      <td>DN21</td>\n",
       "      <td>Feather</td>\n",
       "      <td>1</td>\n",
       "    </tr>\n",
       "    <tr>\n",
       "      <th>3</th>\n",
       "      <td>Beak</td>\n",
       "      <td>Fish</td>\n",
       "      <td>1</td>\n",
       "    </tr>\n",
       "    <tr>\n",
       "      <th>4</th>\n",
       "      <td>Bumper</td>\n",
       "      <td>Fish</td>\n",
       "      <td>1</td>\n",
       "    </tr>\n",
       "    <tr>\n",
       "      <th>...</th>\n",
       "      <td>...</td>\n",
       "      <td>...</td>\n",
       "      <td>...</td>\n",
       "    </tr>\n",
       "    <tr>\n",
       "      <th>154</th>\n",
       "      <td>Topless</td>\n",
       "      <td>Zap</td>\n",
       "      <td>1</td>\n",
       "    </tr>\n",
       "    <tr>\n",
       "      <th>155</th>\n",
       "      <td>Ripplefluke</td>\n",
       "      <td>Zig</td>\n",
       "      <td>1</td>\n",
       "    </tr>\n",
       "    <tr>\n",
       "      <th>156</th>\n",
       "      <td>Bumper</td>\n",
       "      <td>Zipfel</td>\n",
       "      <td>1</td>\n",
       "    </tr>\n",
       "    <tr>\n",
       "      <th>157</th>\n",
       "      <td>SN4</td>\n",
       "      <td>Zipfel</td>\n",
       "      <td>1</td>\n",
       "    </tr>\n",
       "    <tr>\n",
       "      <th>158</th>\n",
       "      <td>TSN83</td>\n",
       "      <td>Zipfel</td>\n",
       "      <td>1</td>\n",
       "    </tr>\n",
       "  </tbody>\n",
       "</table>\n",
       "<p>159 rows × 3 columns</p>\n",
       "</div>"
      ],
      "text/plain": [
       "            From       To  Weight\n",
       "0            CCL   Double       1\n",
       "1           DN16  Feather       1\n",
       "2           DN21  Feather       1\n",
       "3           Beak     Fish       1\n",
       "4         Bumper     Fish       1\n",
       "..           ...      ...     ...\n",
       "154      Topless      Zap       1\n",
       "155  Ripplefluke      Zig       1\n",
       "156       Bumper   Zipfel       1\n",
       "157          SN4   Zipfel       1\n",
       "158        TSN83   Zipfel       1\n",
       "\n",
       "[159 rows x 3 columns]"
      ]
     },
     "execution_count": 185,
     "metadata": {},
     "output_type": "execute_result"
    }
   ],
   "source": [
    "dolph_edges_df"
   ]
  },
  {
   "cell_type": "code",
   "execution_count": 181,
   "id": "28675d37",
   "metadata": {},
   "outputs": [],
   "source": [
    "dolph_components = nx.from_pandas_edgelist(dolph_edges_df, source=\"From\", target=\"To\",edge_attr=\"Weight\")"
   ]
  },
  {
   "cell_type": "code",
   "execution_count": 184,
   "id": "90b813a3",
   "metadata": {},
   "outputs": [
    {
     "data": {
      "text/plain": [
       "1"
      ]
     },
     "execution_count": 184,
     "metadata": {},
     "output_type": "execute_result"
    }
   ],
   "source": [
    "components = [x for x in nx.connected_components(dolph_components)]\n",
    "len(components)"
   ]
  },
  {
   "cell_type": "code",
   "execution_count": 183,
   "id": "7657f7a3",
   "metadata": {},
   "outputs": [
    {
     "name": "stdout",
     "output_type": "stream",
     "text": [
      "[{'SMN5', 'Five', 'Bumper', 'Notch', 'Stripes', 'Cross', 'CCL', 'SN96', 'DN63', 'SN89', 'TR99', 'Whitetip', 'Shmuddel', 'Mus', 'Jonah', 'Vau', 'Patchback', 'SN100', 'Knit', 'Topless', 'MN60', 'TR88', 'Thumper', 'Jet', 'MN23', 'Quasi', 'MN83', 'Wave', 'SN9', 'Zap', 'TR120', 'Kringel', 'Hook', 'Beescratch', 'TSN103', 'TSN83', 'Trigger', 'PL', 'TR77', 'DN21', 'MN105', 'Upbang', 'SN63', 'DN16', 'Feather', 'Fork', 'SN4', 'SN90', 'Scabs', 'Ripplefluke', 'Fish', 'Oscar', 'TR82', 'Zig', 'Haecksel', 'Zipfel', 'Number1', 'Gallatin', 'Grin', 'Double', 'Web', 'Beak'}]\n"
     ]
    }
   ],
   "source": [
    "print(components)"
   ]
  },
  {
   "cell_type": "markdown",
   "id": "f11b5cfc",
   "metadata": {},
   "source": [
    "### ANS : this graph has 1 component"
   ]
  }
 ],
 "metadata": {
  "kernelspec": {
   "display_name": "Datasci",
   "language": "python",
   "name": "datasci"
  },
  "language_info": {
   "codemirror_mode": {
    "name": "ipython",
    "version": 3
   },
   "file_extension": ".py",
   "mimetype": "text/x-python",
   "name": "python",
   "nbconvert_exporter": "python",
   "pygments_lexer": "ipython3",
   "version": "3.8.8"
  }
 },
 "nbformat": 4,
 "nbformat_minor": 5
}
